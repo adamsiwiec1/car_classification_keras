{
 "cells": [
  {
   "cell_type": "code",
   "execution_count": 36,
   "id": "bded4b39",
   "metadata": {},
   "outputs": [],
   "source": [
    "import pathlib\n",
    "\n",
    "from tensorflow import keras\n",
    "import tensorflow as tf\n",
    "from tensorflow.keras.layers import Input, Lambda, Dense, Flatten\n",
    "from tensorflow.keras.models import Model, load_model\n",
    "from tensorflow.keras.preprocessing import image\n",
    "from tensorflow.keras.applications.resnet50 import ResNet50, preprocess_input\n",
    "from tensorflow.keras.applications.resnet50 import preprocess_input, decode_predictions\n",
    "from tensorflow.keras.preprocessing.image import ImageDataGenerator, load_img, img_to_array\n",
    "from tensorflow.keras import layers\n",
    "import numpy as np\n",
    "from glob import glob\n",
    "import matplotlib.pyplot as plt\n",
    "import random as rn\n",
    "from tensorflow.compat.v1 import ConfigProto\n",
    "from tensorflow.compat.v1 import InteractiveSession"
   ]
  },
  {
   "cell_type": "code",
   "execution_count": 37,
   "id": "717baf56",
   "metadata": {},
   "outputs": [],
   "source": [
    "data_dir=\"work/keras/carclassfication_model/data/car_data/test\"\n",
    "image_size = (224, 224)\n",
    "batch_size = 50\n",
    "inputs = keras.Input(shape=(224, 224, 3))"
   ]
  },
  {
   "cell_type": "code",
   "execution_count": 38,
   "id": "41c04746",
   "metadata": {},
   "outputs": [],
   "source": [
    "# train_ds, val_ds = tf.keras.preprocessing.image_dataset_from_directory(\n",
    "#     data_dir,\n",
    "#     validation_split=0.2,\n",
    "#     subset=\"both\",\n",
    "#     seed=66,  # test across diff seed values\n",
    "#     labels=\"inferred\",\n",
    "#     label_mode=\"categorical\",\n",
    "#     image_size=image_size,\n",
    "#     batch_size=batch_size,\n",
    "# )\n",
    "# train_ds = preprocess_input(train_ds)\n",
    "# val_ds = preprocess_input(val_ds)\n",
    "#\n",
    "# class_names = train_ds.class_names"
   ]
  },
  {
   "cell_type": "code",
   "execution_count": 39,
   "outputs": [
    {
     "name": "stdout",
     "output_type": "stream",
     "text": [
      "Found 6517 images belonging to 196 classes.\n",
      "Found 1524 images belonging to 196 classes.\n"
     ]
    }
   ],
   "source": [
    "transform = ImageDataGenerator(preprocessing_function= keras.applications.resnet.preprocess_input, validation_split=0.2)\n",
    "\n",
    "train_ds = transform.flow_from_directory(\n",
    "    data_dir,\n",
    "    subset=\"training\", seed = 42,target_size=image_size,batch_size=batch_size\n",
    ")\n",
    "val_ds = transform.flow_from_directory(\n",
    "    data_dir,\n",
    "    subset=\"validation\", seed = 42,target_size=image_size,batch_size=batch_size\n",
    ")"
   ],
   "metadata": {
    "collapsed": false
   }
  },
  {
   "cell_type": "code",
   "execution_count": null,
   "id": "811a392f",
   "metadata": {},
   "outputs": [
    {
     "name": "stdout",
     "output_type": "stream",
     "text": [
      "Epoch 1/5\n",
      "131/131 [==============================] - 945s 7s/step - loss: 3.9899 - accuracy: 0.1547 - val_loss: 7.3171 - val_accuracy: 0.1004\n",
      "Epoch 2/5\n",
      " 19/131 [===>..........................] - ETA: 16:46 - loss: 1.8569 - accuracy: 0.5179"
     ]
    }
   ],
   "source": [
    "base_model = ResNet50(weights='imagenet', input_tensor=inputs, include_top=True)\n",
    "last_layer = base_model.layers[-2].output\n",
    "out = Dense(units = len(train_ds.class_indices), activation = 'softmax', name = 'ouput')(last_layer)\n",
    "\n",
    "new_base_model = Model(inputs = inputs, outputs = out)\n",
    "\n",
    "for layer in new_base_model.layers[:-25]:\n",
    "  layer.trainable = False\n",
    "\n",
    "model = Model(inputs = inputs, outputs = out)\n",
    "\n",
    "model.compile (\n",
    "    loss = 'categorical_crossentropy',\n",
    "    optimizer = 'adam',\n",
    "    metrics = ['accuracy']\n",
    ")\n",
    "\n",
    "history = model.fit(\n",
    "    train_ds,\n",
    "    validation_data=val_ds,\n",
    "    epochs=5,\n",
    "    steps_per_epoch=len(train_ds),\n",
    "    validation_steps=len(val_ds)\n",
    ")"
   ]
  },
  {
   "cell_type": "code",
   "execution_count": null,
   "id": "14a7f066",
   "metadata": {},
   "outputs": [],
   "source": [
    "# Plot the Loss\n",
    "\n",
    "acc = history.history['accuracy']\n",
    "val_acc = history.history['val_accuracy']\n",
    "\n",
    "loss = history.history['loss']\n",
    "val_loss = history.history['val_loss']\n",
    "\n",
    "epochs_range = range(len(history.epoch))\n",
    "\n",
    "plt.figure(figsize=(8, 8))\n",
    "plt.subplot(1, 2, 1)\n",
    "plt.plot(epochs_range, acc, label='Training Accuracy')\n",
    "plt.plot(epochs_range, val_acc, label='Validation Accuracy')\n",
    "plt.legend(loc='upper right')\n",
    "plt.title('Training and Validation Accuracy')\n",
    "\n",
    "plt.subplot(1, 2, 2)\n",
    "plt.plot(epochs_range, loss, label='Training Loss')\n",
    "plt.plot(epochs_range, val_loss, label='Validation Loss')\n",
    "plt.legend(loc='upper right')\n",
    "plt.title('Training and Validation Loss')\n",
    "plt.show()"
   ]
  },
  {
   "cell_type": "code",
   "execution_count": null,
   "outputs": [],
   "source": [
    "car_path = []\n",
    "from tensorflow.keras.utils import img_to_array\n",
    "\n",
    "class_names = list(train_ds.class_indices.keys())\n",
    "\n",
    "validation_path = pathlib.Path(\"data/car_data/test_subset1/\")\n",
    "valid = list(validation_path.glob('*/*'))\n",
    "rn_car = rn.randint(0, len(valid))\n",
    "car = valid[rn_car]\n",
    "\n",
    "print(\"Actual car {}\".format(car))\n",
    "\n",
    "image = load_img(car, target_size=image_size)\n",
    "image = img_to_array(image)\n",
    "image = image.reshape((1, image.shape[0], image.shape[1], image.shape[2]))\n",
    "temp = plt.imread(car)\n",
    "# plt.imshow(temp)\n",
    "# plt.show()\n",
    "image = keras.applications.resnet50.preprocess_input(image)\n",
    "predictions = model.predict(image)\n",
    "score = tf.nn.softmax(predictions[0])\n",
    "\n",
    "print(\n",
    "  \"Prediction: {} with a {:.2f} percent confidence.\"\n",
    "  .format(class_names[np.argmax(score)], 100 * np.max(score)))"
   ],
   "metadata": {
    "collapsed": false
   }
  },
  {
   "cell_type": "code",
   "execution_count": null,
   "outputs": [],
   "source": [],
   "metadata": {
    "collapsed": false
   }
  }
 ],
 "metadata": {
  "kernelspec": {
   "display_name": "Python 3 (ipykernel)",
   "language": "python",
   "name": "python3"
  },
  "language_info": {
   "codemirror_mode": {
    "name": "ipython",
    "version": 3
   },
   "file_extension": ".py",
   "mimetype": "text/x-python",
   "name": "python",
   "nbconvert_exporter": "python",
   "pygments_lexer": "ipython3",
   "version": "3.10.6"
  }
 },
 "nbformat": 4,
 "nbformat_minor": 5
}
